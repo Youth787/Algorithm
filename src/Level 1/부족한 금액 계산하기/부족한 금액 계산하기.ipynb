{
 "cells": [
  {
   "cell_type": "code",
   "execution_count": 1,
   "metadata": {},
   "outputs": [],
   "source": [
    "def solution(price, money, count):\n",
    "    total = 0\n",
    "    \n",
    "    for i in range(count):\n",
    "        total += price * (i+1)\n",
    "    \n",
    "    if money >= total :\n",
    "        return 0\n",
    "    else:\n",
    "        return total - money "
   ]
  }
 ],
 "metadata": {
  "kernelspec": {
   "display_name": "base",
   "language": "python",
   "name": "python3"
  },
  "language_info": {
   "codemirror_mode": {
    "name": "ipython",
    "version": 3
   },
   "file_extension": ".py",
   "mimetype": "text/x-python",
   "name": "python",
   "nbconvert_exporter": "python",
   "pygments_lexer": "ipython3",
   "version": "3.9.13 (main, Aug 25 2022, 18:29:29) \n[Clang 12.0.0 ]"
  },
  "orig_nbformat": 4,
  "vscode": {
   "interpreter": {
    "hash": "1a95c34b36d7b0b41fb4d6aedd561c86da38ef3f6c5f9289cd34744fe0896496"
   }
  }
 },
 "nbformat": 4,
 "nbformat_minor": 2
}
