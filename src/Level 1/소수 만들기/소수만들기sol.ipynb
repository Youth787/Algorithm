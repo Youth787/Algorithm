{
 "cells": [
  {
   "attachments": {},
   "cell_type": "markdown",
   "metadata": {},
   "source": [
    "sol1"
   ]
  },
  {
   "cell_type": "code",
   "execution_count": 6,
   "metadata": {},
   "outputs": [],
   "source": [
    "# 내장함수 사용 - 순열/조합\n",
    "from itertools import combinations, permutations\n",
    "\n",
    "def pri(x):\n",
    "        for i in range(2, x):\n",
    "            if x % i ==0:\n",
    "                return 0\n",
    "        return 1  \n",
    "\n",
    "def solution(nums):\n",
    "    c = list(combinations(nums,3))\n",
    "    s = [sum(i) for i in c]\n",
    "    return sum([pri(s[i]) for i in range(len(s))])"
   ]
  },
  {
   "attachments": {},
   "cell_type": "markdown",
   "metadata": {},
   "source": [
    "### 순열과 조합 내장 함수 없이 만들기"
   ]
  },
  {
   "cell_type": "markdown",
   "metadata": {},
   "source": []
  }
 ],
 "metadata": {
  "kernelspec": {
   "display_name": "base",
   "language": "python",
   "name": "python3"
  },
  "language_info": {
   "codemirror_mode": {
    "name": "ipython",
    "version": 3
   },
   "file_extension": ".py",
   "mimetype": "text/x-python",
   "name": "python",
   "nbconvert_exporter": "python",
   "pygments_lexer": "ipython3",
   "version": "3.9.13"
  },
  "orig_nbformat": 4,
  "vscode": {
   "interpreter": {
    "hash": "1a95c34b36d7b0b41fb4d6aedd561c86da38ef3f6c5f9289cd34744fe0896496"
   }
  }
 },
 "nbformat": 4,
 "nbformat_minor": 2
}
