{
 "cells": [
  {
   "cell_type": "code",
   "execution_count": null,
   "metadata": {},
   "outputs": [],
   "source": [
    "def solution(t, p): \n",
    "    d = len(t)-len(p)\n",
    "    cnt = 0\n",
    "    n = int(t) % (10**(len(p)))\n",
    "    \n",
    "    if int(p)>=n:\n",
    "        cnt+=1\n",
    "    \n",
    "    for i in range(d):\n",
    "        n = int(t)//(10**(i+1))\n",
    "        k = int(n) % (10**(len(p)))\n",
    "        if int(p) >= k :\n",
    "            cnt +=1\n",
    "            \n",
    "    return cnt "
   ]
  },
  {
   "cell_type": "code",
   "execution_count": null,
   "metadata": {},
   "outputs": [],
   "source": [
    "def solution(t, p):\n",
    "    answer = 0\n",
    "\n",
    "    for i in range(len(t) - len(p) + 1):\n",
    "        if int(p) >= int(t[i:i+len(p)]):\n",
    "            answer += 1\n",
    "\n",
    "    return answer"
   ]
  }
 ],
 "metadata": {
  "kernelspec": {
   "display_name": "base",
   "language": "python",
   "name": "python3"
  },
  "language_info": {
   "codemirror_mode": {
    "name": "ipython",
    "version": 3
   },
   "file_extension": ".py",
   "mimetype": "text/x-python",
   "name": "python",
   "nbconvert_exporter": "python",
   "pygments_lexer": "ipython3",
   "version": "3.9.13"
  },
  "orig_nbformat": 4
 },
 "nbformat": 4,
 "nbformat_minor": 2
}
