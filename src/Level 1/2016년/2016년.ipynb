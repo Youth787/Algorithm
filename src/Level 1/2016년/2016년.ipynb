{
 "cells": [
  {
   "attachments": {},
   "cell_type": "markdown",
   "metadata": {},
   "source": [
    "##### sol 1"
   ]
  },
  {
   "cell_type": "code",
   "execution_count": 11,
   "metadata": {},
   "outputs": [],
   "source": [
    "def solution(a, b):\n",
    "    \n",
    "    month = [31,29,31,30,31,30,31,31,30,31,30,31]\n",
    "    week = ['THU','FRI','SAT','SUN','MON','TUE','WED']\n",
    "    \n",
    "    days = 0\n",
    "    \n",
    "    if a == 1 :\n",
    "        return week[b % 7]\n",
    "    else : \n",
    "        for i in range(a-1):\n",
    "            days += month[i]\n",
    "        return week[b%7]"
   ]
  },
  {
   "attachments": {},
   "cell_type": "markdown",
   "metadata": {},
   "source": [
    "##### sol 2"
   ]
  },
  {
   "cell_type": "code",
   "execution_count": 13,
   "metadata": {},
   "outputs": [],
   "source": [
    "def solution(a, b):\n",
    "    \n",
    "    month = [31,29,31,30,31,30,31,31,30,31,30,31]\n",
    "    week = ['THU','FRI','SAT','SUN','MON','TUE','WED']\n",
    "\n",
    "    return week[(sum(month[:a-1])+b)%7]"
   ]
  },
  {
   "attachments": {},
   "cell_type": "markdown",
   "metadata": {},
   "source": [
    "##### sol 3"
   ]
  },
  {
   "cell_type": "code",
   "execution_count": 23,
   "metadata": {},
   "outputs": [],
   "source": [
    "import datetime\n",
    "\n",
    "def solution(a,b):\n",
    "    t = 'MON TUE WED THU FRI SAT SUN'.split() # 공백을 기준으로 분리하여 리스트로 만든 후, 그 결과를 변수 t에 할당.\n",
    "    return t[datetime.datetime(2016,a,b).weekday()]"
   ]
  },
  {
   "cell_type": "code",
   "execution_count": 25,
   "metadata": {},
   "outputs": [
    {
     "name": "stdout",
     "output_type": "stream",
     "text": [
      "['MON', 'TUE', 'WED', 'THU', 'FRI', 'SAT', 'SUN']\n"
     ]
    }
   ],
   "source": [
    "t = 'MON TUE WED THU FRI SAT SUN'.split()\n",
    "print(t)"
   ]
  },
  {
   "cell_type": "code",
   "execution_count": 26,
   "metadata": {},
   "outputs": [
    {
     "name": "stdout",
     "output_type": "stream",
     "text": [
      "2016-05-24 00:00:00\n"
     ]
    }
   ],
   "source": [
    "print(datetime.datetime(2016,5,24))"
   ]
  },
  {
   "cell_type": "code",
   "execution_count": 28,
   "metadata": {},
   "outputs": [
    {
     "name": "stdout",
     "output_type": "stream",
     "text": [
      "1\n"
     ]
    }
   ],
   "source": [
    "print(datetime.datetime(2016,5,24).weekday())"
   ]
  }
 ],
 "metadata": {
  "kernelspec": {
   "display_name": "base",
   "language": "python",
   "name": "python3"
  },
  "language_info": {
   "codemirror_mode": {
    "name": "ipython",
    "version": 3
   },
   "file_extension": ".py",
   "mimetype": "text/x-python",
   "name": "python",
   "nbconvert_exporter": "python",
   "pygments_lexer": "ipython3",
   "version": "3.9.13"
  },
  "orig_nbformat": 4,
  "vscode": {
   "interpreter": {
    "hash": "1a95c34b36d7b0b41fb4d6aedd561c86da38ef3f6c5f9289cd34744fe0896496"
   }
  }
 },
 "nbformat": 4,
 "nbformat_minor": 2
}
