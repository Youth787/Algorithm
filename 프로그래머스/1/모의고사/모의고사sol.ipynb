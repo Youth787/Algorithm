{
 "cells": [
  {
   "attachments": {},
   "cell_type": "markdown",
   "metadata": {},
   "source": [
    "sol1"
   ]
  },
  {
   "cell_type": "code",
   "execution_count": null,
   "metadata": {},
   "outputs": [],
   "source": [
    "def solution(answers):\n",
    "    answer = []\n",
    "    pattern1 = [1,2,3,4,5]\n",
    "    pattern2 = [2,1,2,3,2,4,2,5]\n",
    "    pattern3 = [3,3,1,1,2,2,4,4,5,5]\n",
    "    score = [0,0,0]\n",
    "    \n",
    "    for i,v in enumerate(answers):\n",
    "        if v == pattern1[i%len(pattern1)]:\n",
    "            score[0] += 1\n",
    "        if v == pattern2[i%len(pattern2)]:\n",
    "            score[1] += 1\n",
    "        if v == pattern3[i%len(pattern3)]:\n",
    "            score[2] += 1\n",
    "            \n",
    "    for i,v in enumerate(score):\n",
    "        if v == max(score):\n",
    "            answer.append(i+1) \n",
    "    return answer\n",
    "\n",
    "    # retrun [i+1 for i,v in enumerate(score) if v == max(score)]"
   ]
  },
  {
   "attachments": {},
   "cell_type": "markdown",
   "metadata": {},
   "source": [
    "sol2"
   ]
  },
  {
   "cell_type": "code",
   "execution_count": 2,
   "metadata": {},
   "outputs": [],
   "source": [
    "def solution(answers):\n",
    "    p = [[1, 2, 3, 4, 5],\n",
    "         [2, 1, 2, 3, 2, 4, 2, 5],\n",
    "         [3, 3, 1, 1, 2, 2, 4, 4, 5, 5]]\n",
    "    s = [0] * len(p) # [0,0,0]\n",
    "\n",
    "    for q, a in enumerate(answers):\n",
    "        for i, v in enumerate(p):\n",
    "            if a == v[q % len(v)]:\n",
    "                s[i] += 1\n",
    "    return [i + 1 for i, v in enumerate(s) if v == max(s)]"
   ]
  }
 ],
 "metadata": {
  "kernelspec": {
   "display_name": "base",
   "language": "python",
   "name": "python3"
  },
  "language_info": {
   "codemirror_mode": {
    "name": "ipython",
    "version": 3
   },
   "file_extension": ".py",
   "mimetype": "text/x-python",
   "name": "python",
   "nbconvert_exporter": "python",
   "pygments_lexer": "ipython3",
   "version": "3.9.13"
  },
  "orig_nbformat": 4,
  "vscode": {
   "interpreter": {
    "hash": "1a95c34b36d7b0b41fb4d6aedd561c86da38ef3f6c5f9289cd34744fe0896496"
   }
  }
 },
 "nbformat": 4,
 "nbformat_minor": 2
}
